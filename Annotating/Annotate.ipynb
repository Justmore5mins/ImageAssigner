{
 "cells": [
  {
   "cell_type": "markdown",
   "metadata": {},
   "source": [
    "This file teaches you how to annotate images using labelimg"
   ]
  },
  {
   "cell_type": "markdown",
   "metadata": {},
   "source": [
    "You can use the vitural environment prebuilt or follow these steps"
   ]
  },
  {
   "cell_type": "markdown",
   "metadata": {},
   "source": [
    "go download code from https://github.com/vietanhdev/anylabeling/releases"
   ]
  },
  {
   "cell_type": "markdown",
   "metadata": {},
   "source": [
    "macos with gpu\n",
    "    https://github.com/vietanhdev/anylabeling/releases/download/v0.3.3/AnyLabeling-GPU.dmg\n",
    "macos with normal\n",
    "    https://github.com/vietanhdev/anylabeling/releases/download/v0.3.3/AnyLabeling.dmg"
   ]
  },
  {
   "cell_type": "markdown",
   "metadata": {
    "vscode": {
     "languageId": "shellscript"
    }
   },
   "source": [
    "or build from pypi\n",
    "\n",
    "pip install anylabeling\n",
    "\n",
    "or gpu support\n",
    "\n",
    "pip install anylabeling-gpu"
   ]
  },
  {
   "cell_type": "markdown",
   "metadata": {},
   "source": [
    "then anylabeling"
   ]
  },
  {
   "cell_type": "markdown",
   "metadata": {},
   "source": [
    "hint: it may spend lots of time to start up, wait it for a second"
   ]
  },
  {
   "cell_type": "markdown",
   "metadata": {},
   "source": [
    "after the file successfully executed, open files(or folders), and it will load images\n",
    "you can press r for retangle and press d for next, a for previous images.\n",
    "after that, go to the image  "
   ]
  }
 ],
 "metadata": {
  "kernelspec": {
   "display_name": "Python 3",
   "language": "python",
   "name": "python3"
  },
  "language_info": {
   "codemirror_mode": {
    "name": "ipython",
    "version": 3
   },
   "file_extension": ".py",
   "mimetype": "text/x-python",
   "name": "python",
   "nbconvert_exporter": "python",
   "pygments_lexer": "ipython3",
   "version": "3.12.3"
  }
 },
 "nbformat": 4,
 "nbformat_minor": 2
}
