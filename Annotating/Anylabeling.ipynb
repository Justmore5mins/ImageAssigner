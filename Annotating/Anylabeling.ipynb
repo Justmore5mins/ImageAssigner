{
 "cells": [
  {
   "cell_type": "markdown",
   "metadata": {},
   "source": [
    "This file teaches you how to annotate images using labelimg"
   ]
  },
  {
   "cell_type": "markdown",
   "metadata": {},
   "source": [
    "You can use the vitural environment prebuilt or follow these steps"
   ]
  },
  {
   "cell_type": "markdown",
   "metadata": {},
   "source": [
    "source codes:\n",
    "https://github.com/vietanhdev/anylabeling/releases"
   ]
  },
  {
   "cell_type": "code",
   "execution_count": null,
   "metadata": {
    "vscode": {
     "languageId": "shellscript"
    }
   },
   "outputs": [],
   "source": [
    "#build from pypi\n",
    "pip install anylabeling\n",
    "pip install anylabeling-gpu #for gpu support\n",
    "\n",
    "#after installing\n",
    "anylabeling"
   ]
  },
  {
   "cell_type": "markdown",
   "metadata": {},
   "source": [
    "hint: it may spend lots of time to start up, wait it for a second"
   ]
  },
  {
   "cell_type": "markdown",
   "metadata": {},
   "source": [
    "after the file successfully executed, open files(or folders), and it will load images\n",
    "you can press r for retangle and press d for next, a for previous images."
   ]
  }
 ],
 "metadata": {
  "kernelspec": {
   "display_name": "Python 3",
   "language": "python",
   "name": "python3"
  },
  "language_info": {
   "codemirror_mode": {
    "name": "ipython",
    "version": 3
   },
   "file_extension": ".py",
   "mimetype": "text/x-python",
   "name": "python",
   "nbconvert_exporter": "python",
   "pygments_lexer": "ipython3",
   "version": "3.12.3"
  }
 },
 "nbformat": 4,
 "nbformat_minor": 2
}
